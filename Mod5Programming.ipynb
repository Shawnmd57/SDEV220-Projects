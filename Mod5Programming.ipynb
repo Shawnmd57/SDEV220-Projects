{
 "cells": [
  {
   "cell_type": "code",
   "execution_count": 37,
   "id": "bdea8887",
   "metadata": {},
   "outputs": [],
   "source": [
    "assert sum([1, 2, 3]) == 6, \"Should be 6\""
   ]
  },
  {
   "cell_type": "code",
   "execution_count": 38,
   "id": "4c198d06",
   "metadata": {
    "scrolled": true
   },
   "outputs": [
    {
     "name": "stdout",
     "output_type": "stream",
     "text": [
      "AssertionError as expected: Should be 6\n"
     ]
    }
   ],
   "source": [
    "try:\n",
    "    assert sum([1, 1, 1]) == 6, \"Should be 6\"\n",
    "except AssertionError as e:\n",
    "    print(\"AssertionError as expected:\", e)"
   ]
  },
  {
   "cell_type": "code",
   "execution_count": 39,
   "id": "b1e0638c",
   "metadata": {},
   "outputs": [],
   "source": [
    "def run_tests(globs=None, prefix=\"test_\"):\n",
    "    if globs is None:\n",
    "        globs = globals()"
   ]
  },
  {
   "cell_type": "code",
   "execution_count": 40,
   "id": "2717e608",
   "metadata": {},
   "outputs": [
    {
     "name": "stdout",
     "output_type": "stream",
     "text": [
      "\n",
      "------\n",
      "Ran 0 tests: 0 passed, 0 failed, 0 errors\n"
     ]
    }
   ],
   "source": [
    "def run_tests(globs=None, prefix=\"test_\"):\n",
    "    if globs is None:\n",
    "        globs = globals()\n",
    "        for name in sorted(globs):\n",
    "            \n",
    "            if name.startswith(prefix) and callable(globs[name]):\n",
    "                fn = globs[name]\n",
    "                try:\n",
    "                    fn()\n",
    "                    print(f\". {name} ok\")\n",
    "                    passed += 1\n",
    "                except AssertionError as e:\n",
    "                    print(f\"F {name} FAIL: {e}\")\n",
    "                    failed += 1\n",
    "                    details.append((name, \"FAIL\", e))\n",
    "                except Exception as e:\n",
    "                    print(f\"E {name} ERROR: {e}\")\n",
    "                    errors += 1\n",
    "                    details.append((name, \"ERROR\", e))\n",
    "\n",
    "total = passed + failed + errors\n",
    "print(\"\\n------\")\n",
    "print(f\"Ran {total} tests: {passed} passed, {failed} failed, {errors} errors\")\n",
    "if details:\n",
    "    print(\"Details:\")\n",
    "    for name, kind, err in details:\n",
    "        print(f\"- {kind} {name}: {type(err).__name__}: {err}\")"
   ]
  },
  {
   "cell_type": "code",
   "execution_count": 41,
   "id": "19ce5e18",
   "metadata": {},
   "outputs": [],
   "source": [
    "def my_sum(iterable):\n",
    "    total = 0\n",
    "    for v in iterable:\n",
    "        total += v\n",
    "    return total"
   ]
  },
  {
   "cell_type": "code",
   "execution_count": 42,
   "id": "13032cf5",
   "metadata": {},
   "outputs": [],
   "source": [
    "def test_list_int():\n",
    "    data = [1, 2, 3]\n",
    "    result = my_sum(data)\n",
    "    assert result == 6, \"List of ints should sum to 6\""
   ]
  },
  {
   "cell_type": "code",
   "execution_count": 43,
   "id": "67fdc610",
   "metadata": {},
   "outputs": [],
   "source": [
    "from fractions import Fraction\n",
    "\n",
    "def test_list_fraction_wrong():\n",
    "    # 1/4 + 1/4 + 2/5 = 1/2 + 2/5 = 9/10, not 1\n",
    "    data = [Fraction(1, 4), Fraction(1, 4), Fraction(2, 5)]\n",
    "    result = my_sum(data)\n",
    "    # Intentionally wrong expected value to demonstrate a failure:\n",
    "    assert result == 1, \"This is expected to fail; correct sum is 9/10\""
   ]
  },
  {
   "cell_type": "code",
   "execution_count": 44,
   "id": "efb16c61",
   "metadata": {},
   "outputs": [],
   "source": [
    "if 'test_list_fraction_wrong' in globals():\n",
    "    del globals()['test_list_fraction_wrong']\n",
    "\n",
    "def test_list_fraction_correct():\n",
    "    data = [Fraction(1, 4), Fraction(1, 4), Fraction(2, 5)]\n",
    "    result = my_sum(data)\n",
    "    assert result == Fraction(9, 10), \"Fractions should sum to 9/10\""
   ]
  },
  {
   "cell_type": "code",
   "execution_count": 45,
   "id": "ba258007",
   "metadata": {},
   "outputs": [],
   "source": [
    "#my_sum/init.py\n",
    "\n",
    "def sum(arg):\n",
    "    total = 0\n",
    "    for val in arg:\n",
    "        total += val\n",
    "    return total"
   ]
  },
  {
   "cell_type": "code",
   "execution_count": 46,
   "id": "6dbb005d",
   "metadata": {},
   "outputs": [
    {
     "ename": "ModuleNotFoundError",
     "evalue": "No module named 'my_sum'",
     "output_type": "error",
     "traceback": [
      "\u001b[1;31m---------------------------------------------------------------------------\u001b[0m",
      "\u001b[1;31mModuleNotFoundError\u001b[0m                       Traceback (most recent call last)",
      "Cell \u001b[1;32mIn[46], line 5\u001b[0m\n\u001b[0;32m      3\u001b[0m \u001b[38;5;28;01mimport\u001b[39;00m \u001b[38;5;21;01munittest\u001b[39;00m\n\u001b[0;32m      4\u001b[0m \u001b[38;5;28;01mfrom\u001b[39;00m \u001b[38;5;21;01mfractions\u001b[39;00m \u001b[38;5;28;01mimport\u001b[39;00m Fraction\n\u001b[1;32m----> 5\u001b[0m \u001b[38;5;28;01mfrom\u001b[39;00m \u001b[38;5;21;01mmy_sum\u001b[39;00m \u001b[38;5;28;01mimport\u001b[39;00m \u001b[38;5;28msum\u001b[39m \n\u001b[0;32m      7\u001b[0m \u001b[38;5;28;01mclass\u001b[39;00m \u001b[38;5;21;01mTestSum\u001b[39;00m(unittest\u001b[38;5;241m.\u001b[39mTestCase):\n\u001b[0;32m      8\u001b[0m     \u001b[38;5;28;01mdef\u001b[39;00m \u001b[38;5;21mtest_list_int\u001b[39m(\u001b[38;5;28mself\u001b[39m):\n",
      "\u001b[1;31mModuleNotFoundError\u001b[0m: No module named 'my_sum'"
     ]
    }
   ],
   "source": [
    "#test.py\n",
    "\n",
    "import unittest\n",
    "from fractions import Fraction\n",
    "from my_sum import sum \n",
    "\n",
    "class TestSum(unittest.TestCase):\n",
    "    def test_list_int(self):\n",
    "        data = [1, 2, 3]\n",
    "        result = sum(data)\n",
    "        self.assertEqual(result, 6)\n",
    "\n",
    "    def test_list_fraction(self):\n",
    "        data = [Fraction(1, 4), Fraction(1, 4), Fraction(2, 5)]\n",
    "        result = sum(data)\n",
    "        self.assertEqual(result, Fraction(9, 10))\n",
    "\n",
    "if __name__ == \"__main__\":\n",
    "    unittest.main()"
   ]
  }
 ],
 "metadata": {
  "kernelspec": {
   "display_name": "Python 3 (ipykernel)",
   "language": "python",
   "name": "python3"
  },
  "language_info": {
   "codemirror_mode": {
    "name": "ipython",
    "version": 3
   },
   "file_extension": ".py",
   "mimetype": "text/x-python",
   "name": "python",
   "nbconvert_exporter": "python",
   "pygments_lexer": "ipython3",
   "version": "3.11.5"
  }
 },
 "nbformat": 4,
 "nbformat_minor": 5
}
